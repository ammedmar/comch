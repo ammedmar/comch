{
 "cells": [
  {
   "cell_type": "markdown",
   "source": [
    "# The Barratt-Eccles operad\n",
    "\n",
    "In this notebook we describe the $E_\\infty$-operad $\\mathcal E$ known as the Barratt-Eccles operad. It is equipped with a filtration by $E_n$-operads which we also describe. We will assume familiarity with simplicial sets, chain complexes and operads. For a self-contained treatment we refer to [[BF]](#bf), where this operad was introduced.\n",
    "\n",
    "We begin by reviewing the left $\\mathrm{S}$-module structure underlying the Barratt-Eccles operad. For a non-negative integer $r$ define the simplicial set $E(\\mathrm S_r)$ by\n",
    "\n",
    "\\begin{align*}\n",
    "E(\\mathrm S_r)_n &= \\{ (\\sigma_0, \\dots, \\sigma_n)\\ |\\ \\sigma_i \\in \\mathrm{S}_r\\}, \\\\\n",
    "d_i(\\sigma_0, \\dots, \\sigma_n) &= (\\sigma_0, \\dots, \\widehat{\\sigma}_i, \\dots, \\sigma_n), \\\\\n",
    "s_i(\\sigma_0, \\dots, \\sigma_n) &= (\\sigma_0, \\dots, \\sigma_i, \\sigma_i, \\dots, \\sigma_n),\n",
    "\\end{align*}\n",
    "\n",
    "corresponding to the unreduced bar construction on the monoid $\\mathrm S_r$. It is equipped with a left $\\mathrm S_r$-action defined on basis elements by\n",
    "\n",
    "\\begin{equation*}\n",
    "\\sigma (\\sigma_0, \\dots, \\sigma_n) = (\\sigma \\sigma_0, \\dots, \\sigma \\sigma_n).\n",
    "\\end{equation*}\n",
    "\n",
    "The chain complex resulting from applying the functor of integral normalized chains to it is denoted $\\mathcal E(r)$, which corresponds to the arity $r$ part of the Barratt-Eccles operad.\n",
    "\n",
    "We introduce a subclass of `ModuleElement` whose keys correspond to simplices of symmetric group elements of a given arity. Barratt-Eccles elements inherit addition, subtraction and action by integers; additionally, they support left action by symmetric ring elements of their same arity and a boundary method."
   ],
   "metadata": {
    "collapsed": false
   }
  },
  {
   "cell_type": "code",
   "execution_count": 10,
   "outputs": [
    {
     "name": "stdout",
     "output_type": "stream",
     "text": [
      "x       = ((1,2,3),(1,3,2),(2,3,1))\n",
      "rho     = - (2,3,1)\n",
      "rho * x = - ((2,3,1),(2,1,3),(3,1,2))\n",
      "dx      = ((1,3,2),(2,3,1)) - ((1,2,3),(2,3,1)) + ((1,2,3),(1,3,2))\n"
     ]
    }
   ],
   "source": [
    "from comch import BarrattEcclesElement, SymmetricRingElement\n",
    "\n",
    "x = BarrattEcclesElement({((1,2,3), (1,3,2), (2,3,1)): 1})\n",
    "rho = SymmetricRingElement({(2,3,1): -1})\n",
    "print(f'x       = {x}')\n",
    "print(f'rho     = {rho}')\n",
    "print(f'rho * x = {rho * x}')\n",
    "print(f'dx      = {x.boundary()}')"
   ],
   "metadata": {
    "collapsed": false,
    "pycharm": {
     "name": "#%%\n"
    }
   }
  },
  {
   "cell_type": "markdown",
   "source": [
    "The operadic composition can be described in terms of the composition of symmetric group elements using the Eilenberg-Zilber map. Let us notice that at the level of the simplicial set $E$ we have compositions induced coordinate-wise\n",
    "\n",
    "\\begin{equation*}\n",
    "{\\circ}_{i}: E(r) \\times E(s) \\to E(r + s - 1).\n",
    "\\end{equation*}\n",
    "\n",
    "We define the composition of $\\mathcal E$ by precomposing\n",
    "\n",
    "\\begin{equation*}\n",
    "N_\\bullet(\\circ_i) \\colon N_\\bullet(E(r) \\times E(s))\n",
    "\\longrightarrow\n",
    "N_\\bullet(E(r + s - 1)) = \\mathcal E(r+s-1)\n",
    "\\end{equation*}\n",
    "\n",
    "with the iterated Eilenberg-Zilber map\n",
    "\n",
    "\\begin{equation*}\n",
    "\\mathcal E(r) \\otimes \\mathcal E(s) =\n",
    "N_\\bullet(E(r)) \\otimes N_\\bullet(E(s))\n",
    "\\longrightarrow\n",
    "N_\\bullet(E(r) \\times E(s)).\n",
    "\\end{equation*}\n",
    "\n",
    "The `BarrattEcclesElements` class supports composition."
   ],
   "metadata": {
    "collapsed": false,
    "pycharm": {
     "name": "#%% md\n"
    }
   }
  },
  {
   "cell_type": "code",
   "execution_count": 15,
   "outputs": [
    {
     "name": "stdout",
     "output_type": "stream",
     "text": [
      "x = ((1,2),(2,1)) + 2((2,1),(1,2))\n",
      "y = 3((2,1,3),)\n",
      "x o_i y = 3((1,3,2,4),(3,2,4,1)) + 6((3,2,4,1),(1,3,2,4))\n"
     ]
    }
   ],
   "source": [
    "x = BarrattEcclesElement({((1,2),(2,1)):1, ((2,1),(1,2)):2})\n",
    "y = BarrattEcclesElement({((2,1,3),):3})\n",
    "i = 2\n",
    "print(f'x = {x}\\ny = {y}\\nx o_i y = {x.compose(y, i)}')"
   ],
   "metadata": {
    "collapsed": false,
    "pycharm": {
     "name": "#%%\n"
    }
   }
  },
  {
   "cell_type": "markdown",
   "source": [
    "## Complexity filtration\n",
    "\n",
    "TBW"
   ],
   "metadata": {
    "collapsed": false
   }
  },
  {
   "cell_type": "markdown",
   "source": [
    "## Diagonal\n",
    "\n",
    "TBW"
   ],
   "metadata": {
    "collapsed": false,
    "pycharm": {
     "name": "#%% md\n"
    }
   }
  },
  {
   "cell_type": "markdown",
   "source": [
    "## References\n",
    "\n",
    "<a name=\"bf\"></a> [BF]: C. Berger, and B. Fresse. \"Combinatorial operad actions on cochains. \"Mathematical Proceedings of the Cambridge Philosophical Society. Vol. 137. No. 1. Cambridge University Press, 2004."
   ],
   "metadata": {
    "collapsed": false
   }
  }
 ],
 "metadata": {
  "kernelspec": {
   "display_name": "Python 3",
   "language": "python",
   "name": "python3"
  },
  "language_info": {
   "codemirror_mode": {
    "name": "ipython",
    "version": 3
   },
   "file_extension": ".py",
   "mimetype": "text/x-python",
   "name": "python",
   "nbconvert_exporter": "python",
   "pygments_lexer": "ipython3",
   "version": "3.8.5"
  }
 },
 "nbformat": 4,
 "nbformat_minor": 4
}