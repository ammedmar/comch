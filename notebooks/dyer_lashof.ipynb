{
 "cells": [
  {
   "cell_type": "code",
   "execution_count": null,
   "metadata": {},
   "outputs": [],
   "source": [
    "from comch import *"
   ]
  },
  {
   "cell_type": "markdown",
   "metadata": {},
   "source": [
    "#### Parameters"
   ]
  },
  {
   "cell_type": "code",
   "execution_count": null,
   "metadata": {},
   "outputs": [],
   "source": [
    "n = 3\n",
    "p = 3\n",
    "\n",
    "arity = p\n",
    "degree = (n-1)*(p-1)\n",
    "torsion = p\n",
    "convention = 'Berger-Fresse'"
   ]
  },
  {
   "cell_type": "markdown",
   "metadata": {},
   "source": [
    "#### Using the E-infinity construction"
   ]
  },
  {
   "cell_type": "code",
   "execution_count": null,
   "metadata": {},
   "outputs": [],
   "source": [
    "surj = Surjection.steenrod_product(arity, degree, torsion, convention)\n",
    "print(f'surj = {surj}.\\n')\n",
    "print(f'complexity = {surj.complexity}.\\n')\n",
    "print(f'd_surj = {surj.boundary()}.\\n')\n",
    "print(f'[d_surj] = {surj.boundary().orbit()}')"
   ]
  },
  {
   "cell_type": "markdown",
   "metadata": {},
   "source": [
    "#### Turchin representative"
   ]
  },
  {
   "cell_type": "code",
   "execution_count": null,
   "metadata": {},
   "outputs": [],
   "source": [
    "x = SurjectionElement({(1,2,1):1}, p, convention)\n",
    "turchin = x.compose(x, 1)\n",
    "print(f'{x} o_1 {x} = {turchin}')\n",
    "print(f'its boundary is {turchin.boundary()}')\n",
    "print(f'whose twisted orbit is {turchin.boundary().orbit(\"sign\")}')"
   ]
  },
  {
   "cell_type": "markdown",
   "metadata": {},
   "source": [
    "#### All orbits arising from compositions"
   ]
  },
  {
   "cell_type": "code",
   "execution_count": null,
   "metadata": {},
   "outputs": [],
   "source": [
    "from itertools import product \n",
    "\n",
    "comp = []\n",
    "x = SurjectionElement({(2,1,2,1): 1}, p, convention)\n",
    "rho = SymmetricRing.rotation_element(2, torsion=p)\n",
    "\n",
    "for a, b, i in product([x, rho * x], [x, rho * x], {1,2}):\n",
    "    comp.append(a.compose(b, i).orbit())\n",
    "    \n",
    "for surj in set(comp):\n",
    "    print(surj)"
   ]
  },
  {
   "cell_type": "markdown",
   "metadata": {},
   "source": [
    "#### Salvatore representative"
   ]
  },
  {
   "cell_type": "code",
   "execution_count": null,
   "metadata": {},
   "outputs": [],
   "source": [
    "salvatore = SurjectionElement({(1, 2, 1, 2, 3, 2, 3):1,\n",
    "                                (1, 2, 3, 1, 3, 2, 3):1,\n",
    "                                (1, 2, 3, 2, 1, 2, 3):1,\n",
    "                                (1, 2, 1, 3, 1, 2, 3):2},\n",
    "                               torsion, convention)\n",
    "print(salvatore)\n",
    "print(salvatore.boundary().orbit())"
   ]
  },
  {
   "cell_type": "markdown",
   "metadata": {},
   "source": [
    "#### Suspension"
   ]
  },
  {
   "cell_type": "code",
   "execution_count": null,
   "metadata": {
    "scrolled": true
   },
   "outputs": [],
   "source": [
    "print(salvatore.suspension().boundary().orbit('sign'))"
   ]
  },
  {
   "cell_type": "markdown",
   "metadata": {},
   "source": [
    "#### All basis up to degree d"
   ]
  },
  {
   "cell_type": "code",
   "execution_count": null,
   "metadata": {},
   "outputs": [],
   "source": [
    "arity = 3\n",
    "complexity = 3\n",
    "bases_keys = {}\n",
    "d = 7\n",
    "for i in range(d+1):\n",
    "    keys = Surjection.basis(arity, i, complexity)\n",
    "    # set on a FreeModuleElement returns the set of keys\n",
    "    bases_keys[i] = tuple(set(SurjectionElement({k:1 for k in keys}).orbit()))\n",
    "    print(f'i={i}: {len(bases_keys[i])}')"
   ]
  },
  {
   "cell_type": "code",
   "execution_count": null,
   "metadata": {
    "scrolled": true
   },
   "outputs": [],
   "source": [
    "import scipy.sparse, numpy\n",
    "\n",
    "def construct_boundary(bases_keys, d, rep='trivial'):\n",
    "    '''constructs a sparse matrix representing the boundary map from chains of\n",
    "    degree d to chains of degree d-1'''\n",
    "    domain_keys, target_keys = bases_keys[d], bases_keys[d-1]\n",
    "    target_keys_idx = {k: index for index, k in enumerate(target_keys)}\n",
    "    m, n = len(target_keys), len(domain_keys)\n",
    "    D = scipy.sparse.lil_matrix((m, n), dtype=int)\n",
    "    for j, elmt in enumerate(domain_keys):\n",
    "        bdry = SurjectionElement({elmt: 1}).boundary().orbit(rep)\n",
    "        for k, v in bdry.items():\n",
    "            D[target_keys_idx[k], j] = v\n",
    "    return D\n",
    "\n",
    "boundary = {}\n",
    "for i in range(1, d+1):\n",
    "    boundary[i] = (construct_boundary(bases_keys, i, 'sign'))\n",
    "\n",
    "# Example\n",
    "print(numpy.mod(boundary[3].todense(), 3))"
   ]
  },
  {
   "cell_type": "markdown",
   "metadata": {},
   "source": [
    "#### From vector to chain"
   ]
  },
  {
   "cell_type": "code",
   "execution_count": null,
   "metadata": {},
   "outputs": [],
   "source": [
    "def vec2chain(vector, basis, arity=3):\n",
    "    \"\"\"Transforms a vector in the given basis to the\n",
    "    corresponding element in the surjection operad.\"\"\"\n",
    "    idx2key = {idx: key for idx, key in enumerate(basis)}\n",
    "    chain = SurjectionElement(torsion=arity)\n",
    "    for idx, v in enumerate(vector):\n",
    "        if v:\n",
    "            chain += chain.create({idx2key[idx]: v})\n",
    "    return chain\n",
    "\n",
    "# Example\n",
    "d = 6\n",
    "bases_keys[d]\n",
    "vector = (0,0,0,0,0,1,0,0,0,0,0,0,0,0,0,0,0)\n",
    "chain = vec2chain(vector, bases_keys[d])\n",
    "print(chain)"
   ]
  },
  {
   "cell_type": "code",
   "execution_count": null,
   "metadata": {},
   "outputs": [],
   "source": [
    "# Basis for the kernel of boundary[6]\n",
    "vectors = {\n",
    " 0: (2, 1, 1, 0, 2, 2, 2, 1, 2, 1, 1, 1, 2, 1, 0, 0, 0),\n",
    " 1: (1, 2, 2, 0, 1, 2, 1, 2, 1, 1, 2, 0, 1, 0, 1, 0, 0),\n",
    " 2: (2, 1, 2, 1, 0, 0, 0, 0, 0, 2, 0, 1, 0, 0, 0, 1, 0),\n",
    " 3: (1, 0, 1, 2, 0, 0, 0, 0, 0, 1, 0, 0, 0, 0, 0, 0, 1)}\n",
    "\n",
    "cycles = []\n",
    "for i in range(4):\n",
    "    cycles.append(vec2chain(vectors[i], bases_keys[6]))"
   ]
  },
  {
   "cell_type": "code",
   "execution_count": null,
   "metadata": {},
   "outputs": [],
   "source": [
    "from itertools import product\n",
    "\n",
    "# All cycles suspending to Salvatore's rep\n",
    "good_cands = []\n",
    "for c in product({0,1,2}, repeat=3):\n",
    "    cand = cycles[0] + c[0] * cycles[1] + c[1] * cycles[2] + c[2] * cycles[3]\n",
    "    susp = cand.suspension().orbit()\n",
    "    if susp == salvatore:\n",
    "        good_cands.append(cand)\n",
    "\n",
    "# Example\n",
    "print(good_cands[0])"
   ]
  }
 ],
 "metadata": {
  "kernelspec": {
   "display_name": "Python 3",
   "language": "python",
   "name": "python3"
  },
  "language_info": {
   "codemirror_mode": {
    "name": "ipython",
    "version": 3
   },
   "file_extension": ".py",
   "mimetype": "text/x-python",
   "name": "python",
   "nbconvert_exporter": "python",
   "pygments_lexer": "ipython3",
   "version": "3.8.3"
  }
 },
 "nbformat": 4,
 "nbformat_minor": 4
}
