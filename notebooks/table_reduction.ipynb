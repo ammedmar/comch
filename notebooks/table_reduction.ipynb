{
 "cells": [
  {
   "cell_type": "markdown",
   "source": [
    "# The table reduction morphism\n",
    "\n",
    "In this notebook we assume familiarity with both, the Barratt-Eccles $\\mathcal E$ and surjection $\\mathcal X$ operads.\n",
    "\n",
    "The table reduction morphism\n",
    "\n",
    "\\begin{equation*}\n",
    "TR : \\mathcal E \\to \\mathcal X\n",
    "\\end{equation*}\n",
    "\n",
    "is a surjective weak equivalence of operads, i.e., an operad morphism that is surjective and induces a homology isomorphism on each arity. It was introduced in [BF] and for a basis Barratt-Eccles element $(\\sigma_0, \\dots, \\sigma_n) \\in \\mathcal E(r)_n$ we have\n",
    "\n",
    "\\begin{equation*}\n",
    "TR(\\sigma_0, \\dots, \\sigma_n) = \\sum_{a} s_{a}\n",
    "\\end{equation*}\n",
    "\n",
    "is a sum of surjections\n",
    "\n",
    "\\begin{equation*}\n",
    "s_{a} : \\{1, \\dots, n+r \\} \\to \\{1, \\dots, r\\}\n",
    "\\end{equation*}\n",
    "\n",
    "parametrized by all tuples of positive integers $a = (a_0, \\dots, a_n)$ with $a_0 + \\cdots + a_n = n + r$. For one such tuple $a$ we now describe the surjection $s_a$. Define recursively\n",
    "\n",
    "\\begin{equation*}\n",
    "A_{-1} = 0 \\qquad A_i = A_{i-1} + a_{i.}\n",
    "\\end{equation*}\n",
    "\n",
    "For $k \\in \\{1, \\dots, n+r\\}$ we identify $i \\in \\{1, \\dots, n\\}$ such that $A_{i-1} < k \\leq A_{i}$ and define $s_a(k)$ to be the $(k - A_{i-1})$-th element in $(\\sigma_i(1), \\dots, \\sigma_i(r))$ not in\n",
    "\n",
    "\\begin{equation*}\n",
    "\\big\\{ s_a(j) \\ | \\ j < k \\text{ and } j \\neq A_0, \\dots , A_{i-1} \\big\\}.\n",
    "\\end{equation*}\n",
    "\n",
    "As proven in [BF] this is an operad map preserving the $E_n$-filtration.\n",
    "\n",
    "The class `BarrattEcclesElement` is equipped with the method `table_reduction` modeling this morphism. The result `SurjectionElement` has the same `torsion` attribute with the Berger-Fresse sign convention."
   ],
   "metadata": {
    "collapsed": false
   }
  },
  {
   "cell_type": "code",
   "execution_count": 2,
   "outputs": [
    {
     "name": "stdout",
     "output_type": "stream",
     "text": [
      "If b = ((1,2,3),(1,3,2)) then TR(b) = (1,2,3,2)\n"
     ]
    }
   ],
   "source": [
    "from comch  import BarrattEcclesElement\n",
    "\n",
    "b = BarrattEcclesElement({((1,2,3),(1,3,2)):1})\n",
    "print(f'If b = {b} then TR(b) = {b.table_reduction()}')"
   ],
   "metadata": {
    "collapsed": false,
    "pycharm": {
     "name": "#%%\n"
    }
   }
  },
  {
   "cell_type": "code",
   "execution_count": 4,
   "outputs": [
    {
     "name": "stdout",
     "output_type": "stream",
     "text": [
      "It is a chain map: True\n"
     ]
    }
   ],
   "source": [
    "b = BarrattEcclesElement({((1, 2, 3, 4), (1, 4, 3, 2)): 1,\n",
    "                          ((1, 2, 4, 3), (3, 4, 2, 1)): 2})\n",
    "dtr_b = b.table_reduction().boundary()\n",
    "trd_b = b.boundary().table_reduction()\n",
    "print(f'It is a chain map: {dtr_b == trd_b}')"
   ],
   "metadata": {
    "collapsed": false,
    "pycharm": {
     "name": "#%%\n"
    }
   }
  },
  {
   "cell_type": "markdown",
   "source": [
    "## References\n",
    "[BF] Berger, Clemens, and Benoit Fresse. \"Combinatorial operad actions on cochains.\" Mathematical Proceedings of the Cambridge Philosophical Society. Vol. 137. No. 1. Cambridge University Press, 2004."
   ],
   "metadata": {
    "collapsed": false,
    "pycharm": {
     "name": "#%% md\n"
    }
   }
  }
 ],
 "metadata": {
  "kernelspec": {
   "display_name": "Python 3",
   "language": "python",
   "name": "python3"
  },
  "language_info": {
   "codemirror_mode": {
    "name": "ipython",
    "version": 3
   },
   "file_extension": ".py",
   "mimetype": "text/x-python",
   "name": "python",
   "nbconvert_exporter": "python",
   "pygments_lexer": "ipython3",
   "version": "3.8.3"
  }
 },
 "nbformat": 4,
 "nbformat_minor": 2
}